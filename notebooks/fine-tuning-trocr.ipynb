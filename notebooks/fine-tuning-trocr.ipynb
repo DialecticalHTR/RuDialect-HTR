{
 "cells": [
  {
   "cell_type": "markdown",
   "metadata": {},
   "source": [
    "# 0 Download Kaggle Data to Google Drive"
   ]
  },
  {
   "cell_type": "code",
   "execution_count": null,
   "metadata": {
    "trusted": true
   },
   "outputs": [],
   "source": [
    "!pip uninstall -y -q cffi\n",
    "!pip install -q cffi gdown"
   ]
  },
  {
   "cell_type": "code",
   "execution_count": null,
   "metadata": {
    "trusted": true
   },
   "outputs": [],
   "source": [
    "url = \"\" # paste your URL link to the Google Cloud service account key\n",
    "!gdown --fuzzy {url}"
   ]
  },
  {
   "cell_type": "code",
   "execution_count": null,
   "metadata": {
    "trusted": true
   },
   "outputs": [],
   "source": [
    "from googleapiclient.discovery import build\n",
    "from google.oauth2.service_account import Credentials\n",
    "\n",
    "\n",
    "SERVICE_ACCOUNT_FILE = \"/kaggle/working/your-service-account-4.json\"  # paste the service account key you downloaded\n",
    "\n",
    "# Create credentials\n",
    "creds = Credentials.from_service_account_file(SERVICE_ACCOUNT_FILE)\n",
    "\n",
    "# Create service Google Drive API\n",
    "drive_service = build(\"drive\", \"v3\", credentials=creds)"
   ]
  },
  {
   "cell_type": "markdown",
   "metadata": {},
   "source": [
    "# 1 Preprocessing datasets"
   ]
  },
  {
   "cell_type": "code",
   "execution_count": null,
   "metadata": {
    "trusted": true
   },
   "outputs": [],
   "source": [
    "!pip install -q transformers evaluate jiwer peft"
   ]
  },
  {
   "cell_type": "markdown",
   "metadata": {},
   "source": [
    "## 1.1 Data loading and preprocessing"
   ]
  },
  {
   "cell_type": "code",
   "execution_count": null,
   "metadata": {
    "trusted": true
   },
   "outputs": [],
   "source": [
    "import os\n",
    "import torch\n",
    "import random\n",
    "import numpy as np\n",
    "import pandas as pd\n",
    "import matplotlib.pyplot as plt\n",
    "\n",
    "from PIL import Image\n",
    "\n",
    "from torch.nn.utils.rnn import pad_sequence\n",
    "from torch.utils.data import Dataset, DataLoader\n",
    "\n",
    "from peft import LoraConfig, get_peft_model\n",
    "from transformers import VisionEncoderDecoderModel, TrOCRProcessor"
   ]
  },
  {
   "cell_type": "code",
   "execution_count": null,
   "metadata": {
    "trusted": true
   },
   "outputs": [],
   "source": [
    "num_epochs = 5\n",
    "batch_size = 16\n",
    "\n",
    "device = torch.device(\"cuda\" if torch.cuda.is_available() else \"cpu\")\n",
    "\n",
    "if torch.cuda.device_count() > 1:\n",
    "    print(f\"Using {torch.cuda.device_count()} GPUs!\")\n",
    "    multi_gpu = True\n",
    "else:\n",
    "    multi_gpu = False\n",
    "\n",
    "print(f\"num_epochs: {num_epochs} and batch_size: {batch_size}\")"
   ]
  },
  {
   "cell_type": "code",
   "execution_count": null,
   "metadata": {
    "trusted": true
   },
   "outputs": [],
   "source": [
    "# split data into 'num_files' parts if necessary\n",
    "def split_data(df: pd.DataFrame, num_files: int, name_df: str):\n",
    "    path = os.path.join(\"/kaggle/working\", name_df)\n",
    "    \n",
    "    try:\n",
    "        os.makedirs(path, exist_ok=True)\n",
    "        df_list = np.array_split(df, num_files)\n",
    "        \n",
    "        for i, df_part in enumerate(df_list):\n",
    "            df_part.to_csv(f\"{path}/{name_df}_chunk{i}.csv\", sep=';', header=None, index=False, escapechar='\\\\')\n",
    "        print(f\"{name_df} data is splitted\")\n",
    "            \n",
    "    except OSError as error:\n",
    "        print(\"Directory can not be created\")\n",
    "    "
   ]
  },
  {
   "cell_type": "code",
   "execution_count": null,
   "metadata": {
    "trusted": true
   },
   "outputs": [],
   "source": [
    "real_df = pd.read_csv(\n",
    "    \"/kaggle/input/dialectic-real-all/data.csv\",\n",
    "    sep=\";\",\n",
    "    escapechar='\\\\',\n",
    "    skiprows=1,\n",
    "    header=None,\n",
    "    names=[\"file_name\", \"text\"],\n",
    ")\n",
    "\n",
    "real_df[\"file_name\"] = real_df[\"file_name\"].apply(lambda x: \"/kaggle/input/dialectic-real-all/images/\" + x)\n",
    "real_df.head()"
   ]
  },
  {
   "cell_type": "code",
   "execution_count": null,
   "metadata": {
    "trusted": true
   },
   "outputs": [],
   "source": [
    "stackmix_df = pd.read_csv(\n",
    "    \"/kaggle/input/stackmix-dialectic-2-0/_output_/data.csv\",\n",
    "    sep=\";\",    \n",
    "    escapechar='\\\\',\n",
    "    header=None,\n",
    "    skiprows=1,\n",
    "    names=[\"text\", \"file_name\"],\n",
    ")\n",
    "stackmix_df[\"file_name\"] = stackmix_df[\"file_name\"].apply(lambda x: \"/kaggle/input/stackmix-dialectic-2-0/_output_/images/\" + x)\n",
    "\n",
    "stackmix_df.head()"
   ]
  },
  {
   "cell_type": "code",
   "execution_count": null,
   "metadata": {
    "trusted": true
   },
   "outputs": [],
   "source": [
    "split_data(df=stackmix_df, num_files=4, name_df=\"stackmix\")"
   ]
  },
  {
   "cell_type": "code",
   "execution_count": null,
   "metadata": {
    "trusted": true
   },
   "outputs": [],
   "source": [
    "stackmix_df = pd.read_csv(\n",
    "    \"/kaggle/working/stackmix/stackmix_chunk2.csv\",\n",
    "    sep=\";\",    \n",
    "    escapechar='\\\\',\n",
    "    header=None,    \n",
    "    names=[\"text\", \"file_name\"],\n",
    ")\n",
    "\n",
    "print(f\"stackmix_df.shape: {stackmix_df.shape}\")\n",
    "stackmix_df.head()"
   ]
  },
  {
   "cell_type": "code",
   "execution_count": null,
   "metadata": {
    "trusted": true
   },
   "outputs": [],
   "source": [
    "cyrillic_train_df = pd.read_csv(\n",
    "    \"/kaggle/input/cyrillic-handwriting-dataset/train.tsv\",\n",
    "    sep=\"\\t\",    \n",
    "    escapechar='\\\\',\n",
    "    header=None,\n",
    "    names=[\"file_name\", \"text\"],\n",
    ")\n",
    "\n",
    "cyrillic_train_df[\"file_name\"] = cyrillic_train_df[\"file_name\"].apply(lambda x: \"/kaggle/input/cyrillic-handwriting-dataset/train/\" + x)\n",
    "cyrillic_train_df.head()"
   ]
  },
  {
   "cell_type": "code",
   "execution_count": null,
   "metadata": {
    "trusted": true
   },
   "outputs": [],
   "source": [
    "split_data(df=cyrillic_train_df, num_files=5, name_df=\"cyrillic\")"
   ]
  },
  {
   "cell_type": "code",
   "execution_count": null,
   "metadata": {
    "trusted": true
   },
   "outputs": [],
   "source": [
    "cyrillic_train_df = pd.read_csv(\n",
    "    \"/kaggle/working/cyrillic/cyrillic_chunk1.csv\",\n",
    "    sep=\";\",    \n",
    "    escapechar='\\\\',\n",
    "    header=None,    \n",
    "    names=[\"file_name\", \"text\"],\n",
    ")\n",
    "\n",
    "print(f\"cyrillic_train_df.shape: {cyrillic_train_df.shape}\")\n",
    "cyrillic_train_df.head()"
   ]
  },
  {
   "cell_type": "code",
   "execution_count": null,
   "metadata": {
    "trusted": true
   },
   "outputs": [],
   "source": [
    "print(real_df.isnull().sum(), \"\\n\")\n",
    "print(stackmix_df.isnull().sum(), \"\\n\")\n",
    "print(cyrillic_train_df.isnull().sum(), \"\\n\")"
   ]
  },
  {
   "cell_type": "code",
   "execution_count": null,
   "metadata": {
    "trusted": true
   },
   "outputs": [],
   "source": [
    "real_df = real_df.dropna()\n",
    "stackmix_df = stackmix_df.dropna()\n",
    "cyrillic_train_df = cyrillic_train_df.dropna()"
   ]
  },
  {
   "cell_type": "code",
   "execution_count": null,
   "metadata": {
    "trusted": true
   },
   "outputs": [],
   "source": [
    "# we reset the indices to start from zero\n",
    "real_df.reset_index(drop=True, inplace=True)\n",
    "stackmix_df.reset_index(drop=True, inplace=True)\n",
    "cyrillic_train_df.reset_index(drop=True, inplace=True)"
   ]
  },
  {
   "cell_type": "code",
   "execution_count": null,
   "metadata": {
    "trusted": true
   },
   "outputs": [],
   "source": [
    "train_df = pd.concat([stackmix_df, cyrillic_train_df], ignore_index=True)\n",
    "train_df.head()"
   ]
  },
  {
   "cell_type": "code",
   "execution_count": null,
   "metadata": {
    "trusted": true
   },
   "outputs": [],
   "source": [
    "class CHDataset(Dataset):\n",
    "    def __init__(self, df, processor, root_dir=None, max_target_length=128):\n",
    "        self.root_dir = root_dir\n",
    "        self.df = df\n",
    "        self.processor = processor\n",
    "        self.max_target_length = max_target_length\n",
    "\n",
    "    def __len__(self):\n",
    "        return len(self.df)\n",
    "\n",
    "    def __getitem__(self, idx, return_image=False):\n",
    "        # get file name + text\n",
    "        file_name = self.df[\"file_name\"][idx]\n",
    "        text = self.df[\"text\"][idx]\n",
    "\n",
    "        # prepare image (i.e. resize + normalize)\n",
    "        # image = Image.open(self.root_dir + file_name).convert(\"RGB\")\n",
    "        image = Image.open(file_name).convert(\"RGB\")\n",
    "\n",
    "        pixel_values = self.processor(image, return_tensors=\"pt\").pixel_values\n",
    "        # add labels (input_ids) by encoding the text\n",
    "        labels = self.processor.tokenizer(\n",
    "            text, padding=\"max_length\", max_length=self.max_target_length\n",
    "        ).input_ids\n",
    "        # important: make sure that PAD tokens are ignored by the loss function\n",
    "\n",
    "        labels = [\n",
    "            label if label != self.processor.tokenizer.pad_token_id else -100\n",
    "            for label in labels\n",
    "        ]\n",
    "\n",
    "        encoding = {\n",
    "            \"pixel_values\": pixel_values.squeeze(),\n",
    "            \"labels\": torch.tensor(labels),\n",
    "        }\n",
    "        if return_image:\n",
    "            return encoding, image\n",
    "\n",
    "        return encoding"
   ]
  },
  {
   "cell_type": "markdown",
   "metadata": {},
   "source": [
    "## 1.2 Creating dataloaders"
   ]
  },
  {
   "cell_type": "code",
   "execution_count": null,
   "metadata": {
    "trusted": true
   },
   "outputs": [],
   "source": [
    "model_name = \"/kaggle/input/dialectic-aug-1.0/other/default/2/dialectic-aug-1.0-dora/model/TrOCRModel/weights\" # paste your TrOCR model\n",
    "model = VisionEncoderDecoderModel.from_pretrained(model_name)"
   ]
  },
  {
   "cell_type": "code",
   "execution_count": null,
   "metadata": {
    "trusted": true
   },
   "outputs": [],
   "source": [
    "processor = TrOCRProcessor.from_pretrained(model_name)\n",
    "\n",
    "vocab = processor.tokenizer.get_vocab()\n",
    "diacritic_chars = list(\"\\u0301\\u0302\\u0304\\u0311\\u0306\\u203f\")\n",
    "missing_tokens = [char for char in diacritic_chars if char not in vocab]\n",
    "\n",
    "if missing_tokens:\n",
    "    print(\"Missing characters:\", missing_tokens)\n",
    "    processor.tokenizer.add_tokens(missing_tokens)\n",
    "    model.decoder.resize_token_embeddings(len(processor.tokenizer))\n",
    "\n",
    "else:\n",
    "    print(\"All the necessary characters are already present in vocab.\")"
   ]
  },
  {
   "cell_type": "code",
   "execution_count": null,
   "metadata": {
    "trusted": true
   },
   "outputs": [],
   "source": [
    "train_dataset = CHDataset(df=train_df, processor=processor)\n",
    "\n",
    "val_dataset = CHDataset(df=real_df, processor=processor)"
   ]
  },
  {
   "cell_type": "code",
   "execution_count": null,
   "metadata": {
    "trusted": true
   },
   "outputs": [],
   "source": [
    "print(\"Number of training examples:\", len(train_dataset))\n",
    "print(\"Number of cards val examples:\", len(val_dataset))"
   ]
  },
  {
   "cell_type": "code",
   "execution_count": null,
   "metadata": {
    "trusted": true
   },
   "outputs": [],
   "source": [
    "def custom_collate_fn(batch):\n",
    "    pixel_values = torch.stack([item[\"pixel_values\"] for item in batch])\n",
    "    labels = [item[\"labels\"] for item in batch]\n",
    "    labels_padded = pad_sequence(labels, batch_first=True, padding_value=-100)\n",
    "    return {\"pixel_values\": pixel_values, \"labels\": labels_padded}"
   ]
  },
  {
   "cell_type": "code",
   "execution_count": null,
   "metadata": {
    "trusted": true
   },
   "outputs": [],
   "source": [
    "train_dataloader = DataLoader(\n",
    "    train_dataset,\n",
    "    batch_size=batch_size,\n",
    "    collate_fn=custom_collate_fn,\n",
    "    shuffle=True,\n",
    "    num_workers=4,\n",
    "    pin_memory=True,\n",
    ")\n",
    "val_dataloader = DataLoader(\n",
    "    val_dataset,\n",
    "    batch_size=batch_size,\n",
    "    collate_fn=custom_collate_fn,\n",
    "    num_workers=4,\n",
    "    pin_memory=True,\n",
    ")"
   ]
  },
  {
   "cell_type": "markdown",
   "metadata": {},
   "source": [
    "## 1.3 Checking Decoder"
   ]
  },
  {
   "cell_type": "code",
   "execution_count": null,
   "metadata": {
    "trusted": true
   },
   "outputs": [],
   "source": [
    "# if you also want to get the image, set 'return_image' in __get_item__ (class: CHDataset) to 'True'\n",
    "# encoding, image = train_dataset[0]\n",
    "encoding = train_dataset[0]\n",
    "for k, v in encoding.items():\n",
    "    print(k, v.shape)\n",
    "\n",
    "\n",
    "labels = encoding[\"labels\"]\n",
    "labels[labels == -100] = processor.tokenizer.pad_token_id\n",
    "label_str = processor.decode(labels, skip_special_tokens=True)\n",
    "print(label_str)\n",
    "\n",
    "# image"
   ]
  },
  {
   "cell_type": "markdown",
   "metadata": {},
   "source": [
    "# 2 Fine-tuning"
   ]
  },
  {
   "cell_type": "code",
   "execution_count": null,
   "metadata": {
    "trusted": true
   },
   "outputs": [],
   "source": [
    "import evaluate\n",
    "from transformers import GenerationConfig, TrainingArguments\n",
    "\n",
    "import copy\n",
    "\n",
    "from tqdm.auto import tqdm\n",
    "from torch.optim import AdamW\n",
    "from torch.utils.tensorboard import SummaryWriter\n",
    "\n",
    "from transformers import get_cosine_with_hard_restarts_schedule_with_warmup\n",
    "\n",
    "from accelerate import Accelerator\n",
    "from accelerate.utils import LoggerType"
   ]
  },
  {
   "cell_type": "markdown",
   "metadata": {},
   "source": [
    "## 2.1 DoRA"
   ]
  },
  {
   "cell_type": "code",
   "execution_count": null,
   "metadata": {
    "trusted": true
   },
   "outputs": [],
   "source": [
    "dora_config = LoraConfig(\n",
    "    r=8,\n",
    "    lora_alpha=32,\n",
    "    target_modules=[\"query\", \"value\", \"q_proj\", \"v_proj\"],\n",
    "    lora_dropout=0.1,\n",
    "    bias=\"none\",\n",
    "    use_dora=True,\n",
    "    use_rslora=True,\n",
    ")\n",
    "model = get_peft_model(model, dora_config)\n",
    "model.print_trainable_parameters()"
   ]
  },
  {
   "cell_type": "markdown",
   "metadata": {},
   "source": [
    "## 2.2 Metrics and tools"
   ]
  },
  {
   "cell_type": "code",
   "execution_count": null,
   "metadata": {
    "trusted": true
   },
   "outputs": [],
   "source": [
    "cer_metric = evaluate.load(\"cer\")\n",
    "wer_metric = evaluate.load(\"wer\")"
   ]
  },
  {
   "cell_type": "code",
   "execution_count": null,
   "metadata": {
    "trusted": true
   },
   "outputs": [],
   "source": [
    "def compute_metrics(pred_ids, label_ids):\n",
    "    labels = label_ids.clone()\n",
    "    labels[labels == -100] = processor.tokenizer.pad_token_id\n",
    "\n",
    "    pred_texts = processor.batch_decode(pred_ids, skip_special_tokens=True)\n",
    "    label_texts = processor.batch_decode(labels, skip_special_tokens=True)\n",
    "\n",
    "    # CER и WER\n",
    "    cer = cer_metric.compute(predictions=pred_texts, references=label_texts)\n",
    "    wer = wer_metric.compute(predictions=pred_texts, references=label_texts)\n",
    "\n",
    "    # Accuracy\n",
    "    correct = sum(\n",
    "        pred_text == gt_text for pred_text, gt_text in zip(pred_texts, label_texts)\n",
    "    )\n",
    "    accuracy = correct / len(label_texts) * 100\n",
    "\n",
    "    return cer, wer, accuracy"
   ]
  },
  {
   "cell_type": "code",
   "execution_count": null,
   "metadata": {
    "trusted": true
   },
   "outputs": [],
   "source": [
    "def evaluate_model(model, dataloader, device):\n",
    "    model.eval()\n",
    "    total_cer, total_wer, total_accuracy = 0.0, 0.0, 0.0\n",
    "\n",
    "    with torch.no_grad():\n",
    "        for batch in tqdm(dataloader, desc=\"Evaluating\"):\n",
    "            pixel_values = batch[\"pixel_values\"].to(device)\n",
    "            labels = batch[\"labels\"].to(device)\n",
    "\n",
    "            outputs = model.generate(pixel_values)\n",
    "\n",
    "            cer, wer, accuracy = compute_metrics(outputs, labels)\n",
    "\n",
    "            total_cer += cer\n",
    "            total_wer += wer\n",
    "            total_accuracy += accuracy\n",
    "\n",
    "    dataset_size = len(dataloader)\n",
    "    return {\n",
    "        \"CER\": total_cer / dataset_size,\n",
    "        \"WER\": total_wer / dataset_size,\n",
    "        \"Accuracy\": total_accuracy / dataset_size,\n",
    "    }"
   ]
  },
  {
   "cell_type": "code",
   "execution_count": null,
   "metadata": {
    "trusted": true
   },
   "outputs": [],
   "source": [
    "def beam_search(model):\n",
    "    # set special tokens used for creating the decoder_input_ids from the labels\n",
    "    model.config.decoder_start_token_id = processor.tokenizer.cls_token_id\n",
    "    model.config.pad_token_id = processor.tokenizer.pad_token_id\n",
    "    model.config.vocab_size = model.config.decoder.vocab_size\n",
    "\n",
    "    # set beam search parameters\n",
    "    generation_config = GenerationConfig(\n",
    "        max_length=64,\n",
    "        early_stopping=True,\n",
    "        no_repeat_ngram_size=3,\n",
    "        length_penalty=2.0,\n",
    "        num_beams=4,\n",
    "    )\n",
    "    model.generation_config = generation_config\n",
    "\n",
    "    model.generation_config.eos_token_id = processor.tokenizer.sep_token_id\n",
    "    model.generation_config.decoder_start_token_id = processor.tokenizer.cls_token_id\n",
    "    model.generation_config.pad_token_id = processor.tokenizer.pad_token_id"
   ]
  },
  {
   "cell_type": "code",
   "execution_count": null,
   "metadata": {
    "trusted": true
   },
   "outputs": [],
   "source": [
    "# Configuring generation parameters\n",
    "beam_search(model)\n",
    "\n",
    "if multi_gpu:\n",
    "    model = torch.nn.DataParallel(model)"
   ]
  },
  {
   "cell_type": "markdown",
   "metadata": {},
   "source": [
    "## 2.3 Auxiliary functions"
   ]
  },
  {
   "cell_type": "code",
   "execution_count": null,
   "metadata": {
    "trusted": true
   },
   "outputs": [],
   "source": [
    "import os\n",
    "import zipfile\n",
    "import shutil\n",
    "import time\n",
    "import socket\n",
    "import ssl\n",
    "\n",
    "from google.oauth2.service_account import Credentials\n",
    "from googleapiclient.discovery import build\n",
    "from googleapiclient.http import MediaFileUpload\n",
    "from googleapiclient.errors import HttpError\n",
    "\n",
    "\n",
    "FOLDER_ID = \"\"  # paste folder ID from your Google Drive\n",
    "\n",
    "\n",
    "def create_zip(folder_to_zip, zip_path):\n",
    "    base_name = zip_path[:-4]\n",
    "    shutil.make_archive(base_name=base_name, format=\"zip\", root_dir=folder_to_zip)\n",
    "    folder_name = os.path.basename(folder_to_zip)\n",
    "    print(f\"Zip archive of the {folder_name} created\")\n",
    "\n",
    "\n",
    "def upload_to_drive(file_path, file_name, folder_id, max_retries=5):\n",
    "    file_metadata = {\"name\": file_name, \"parents\": [folder_id]}\n",
    "\n",
    "    media = MediaFileUpload(file_path, mimetype=\"application/zip\")\n",
    "\n",
    "    for attempt in range(max_retries):\n",
    "        try:\n",
    "            file = (\n",
    "                drive_service.files()\n",
    "                .create(body=file_metadata, media_body=media)\n",
    "                .execute()\n",
    "            )\n",
    "            print(f\"File {file_name} uploaded to Google Drive\")\n",
    "            return\n",
    "        except (HttpError, ssl.SSLEOFError, socket.timeout) as e:\n",
    "            print(f\"Uploading error: {e}, attempt {attempt+1} from {max_retries}\")\n",
    "            time.sleep(5)\n",
    "\n",
    "    print(\n",
    "        f\"Failed to upload {file_name} after {max_retries} attempts. We continue to execute...\"\n",
    "    )\n",
    "\n",
    "\n",
    "def main_model():\n",
    "    zip_name = \"dialectic-mix-dora-1.1.zip\"\n",
    "    zip_path = f\"/kaggle/working/{zip_name}\"  # Path for model zip file\n",
    "    folder_to_zip = \"/kaggle/working/model\"  # Model directory to zip\n",
    "\n",
    "    if os.path.exists(zip_path):\n",
    "        os.remove(zip_path)\n",
    "\n",
    "    create_zip(folder_to_zip, zip_path)\n",
    "    upload_to_drive(zip_path, zip_name, FOLDER_ID)\n",
    "\n",
    "\n",
    "def main_logs():\n",
    "    zip_name = \"dialectic-mix-dora-1.1-logs.zip\"\n",
    "    zip_path = f\"/kaggle/working/{zip_name}\"  # Path for logs zip file\n",
    "    folder_to_zip = \"/kaggle/working/logs\"  # Logs directory to zip\n",
    "\n",
    "    if os.path.exists(zip_path):\n",
    "        os.remove(zip_path)\n",
    "\n",
    "    create_zip(folder_to_zip, zip_path)\n",
    "    upload_to_drive(zip_path, zip_name, FOLDER_ID)\n",
    "\n",
    "\n",
    "def zip_best_model():\n",
    "    zip_name = \"dialectic-mix-dora-1.1.zip\"\n",
    "    zip_path = f\"/kaggle/working/best_model-{zip_name}\"  # Path for best model zip\n",
    "    folder_to_zip = (\n",
    "        \"/kaggle/working/model/TrOCRModel/best_model\"  # Best model checkpoint directory\n",
    "    )\n",
    "\n",
    "    if os.path.exists(zip_path):\n",
    "        os.remove(zip_path)\n",
    "\n",
    "    create_zip(folder_to_zip, zip_path)"
   ]
  },
  {
   "cell_type": "markdown",
   "metadata": {},
   "source": [
    "## 2.4 Accelerate"
   ]
  },
  {
   "cell_type": "code",
   "execution_count": null,
   "metadata": {
    "trusted": true
   },
   "outputs": [],
   "source": [
    "torch.cuda.empty_cache()"
   ]
  },
  {
   "cell_type": "code",
   "execution_count": null,
   "metadata": {
    "trusted": true
   },
   "outputs": [],
   "source": [
    "training_args = TrainingArguments(\n",
    "    output_dir=\"model/TrOCRModel/weights\",\n",
    "    learning_rate=5e-5,\n",
    "    num_train_epochs=num_epochs,\n",
    "    logging_dir=\"logs\",\n",
    "    fp16=True,\n",
    "    gradient_accumulation_steps=4,\n",
    ")\n",
    "\n",
    "best_cer = float(\"inf\")\n",
    "best_model_path = os.path.join(\"model/TrOCRModel\", \"best_model\")"
   ]
  },
  {
   "cell_type": "code",
   "execution_count": null,
   "metadata": {
    "trusted": true
   },
   "outputs": [],
   "source": [
    "accelerator = Accelerator(\n",
    "    mixed_precision=\"fp16\" if training_args.fp16 else \"no\",\n",
    "    gradient_accumulation_steps=training_args.gradient_accumulation_steps,\n",
    ")\n",
    "\n",
    "if accelerator.is_main_process:\n",
    "    writer = SummaryWriter(log_dir=training_args.logging_dir)\n",
    "\n",
    "optimizer = AdamW(model.parameters(), lr=training_args.learning_rate)\n",
    "num_training_steps = len(train_dataloader) * training_args.num_train_epochs\n",
    "warmup_steps = int(0.1 * num_training_steps)\n",
    "\n",
    "scheduler = get_cosine_with_hard_restarts_schedule_with_warmup(\n",
    "    optimizer, num_warmup_steps=warmup_steps, num_training_steps=num_training_steps\n",
    ")\n",
    "\n",
    "model, optimizer, train_dataloader, val_dataloader, scheduler = accelerator.prepare(\n",
    "    model,\n",
    "    optimizer,\n",
    "    train_dataloader,\n",
    "    val_dataloader,\n",
    "    scheduler,\n",
    ")\n",
    "\n",
    "device = accelerator.device\n",
    "model.to(device)"
   ]
  },
  {
   "cell_type": "code",
   "execution_count": null,
   "metadata": {
    "_kg_hide-input": true,
    "trusted": true
   },
   "outputs": [],
   "source": [
    "for epoch in range(training_args.num_train_epochs):\n",
    "    model.train()\n",
    "    train_loss = 0.0\n",
    "\n",
    "    progress_bar = tqdm(\n",
    "        train_dataloader,\n",
    "        desc=f\"Epoch {epoch+1}\",\n",
    "        disable=not accelerator.is_local_main_process,\n",
    "    )\n",
    "\n",
    "    for batch in progress_bar:\n",
    "        with accelerator.accumulate(model):\n",
    "            optimizer.zero_grad()\n",
    "\n",
    "            outputs = model(**batch)\n",
    "            loss = outputs.loss.mean()\n",
    "\n",
    "            accelerator.backward(loss)\n",
    "            optimizer.step()\n",
    "            scheduler.step()\n",
    "\n",
    "            train_loss += loss.item()\n",
    "            progress_bar.set_postfix(loss=loss.item())\n",
    "\n",
    "    avg_train_loss = train_loss / len(train_dataloader)\n",
    "\n",
    "    # Validation\n",
    "    model_copy = copy.deepcopy(model.module)\n",
    "    merged_model = model_copy.merge_and_unload()\n",
    "    metrics = evaluate_model(merged_model, val_dataloader, device)\n",
    "    print(\n",
    "        f\"Epoch {epoch+1}: Validation CER: {metrics['CER']:.4f}, WER: {metrics['WER']:.4f}, Accuracy: {metrics['Accuracy']:.2f}%, Train loss: {avg_train_loss:.2f}\"\n",
    "    )\n",
    "\n",
    "    # Logging on main process\n",
    "    if accelerator.is_main_process:\n",
    "        writer.add_scalar(\"Loss/train\", avg_train_loss, epoch)\n",
    "        writer.add_scalar(\"Metrics/CER\", metrics[\"CER\"], epoch)\n",
    "        writer.add_scalar(\"Metrics/WER\", metrics[\"WER\"], epoch)\n",
    "        writer.add_scalar(\"Metrics/Accuracy\", metrics[\"Accuracy\"], epoch)\n",
    "\n",
    "    # Save the best model\n",
    "    if metrics[\"CER\"] < best_cer:\n",
    "        best_cer = metrics[\"CER\"]\n",
    "\n",
    "        if accelerator.is_main_process:\n",
    "            print(f\"New best CER: {best_cer:.4f}. Saving copy merged model...\")\n",
    "            unwrapped_model = accelerator.unwrap_model(merged_model)\n",
    "            unwrapped_model.save_pretrained(best_model_path)\n",
    "            processor.save_pretrained(best_model_path)\n",
    "            accelerator.save_state(os.path.join(best_model_path, \"checkpoint\"))\n",
    "            zip_best_model()\n",
    "\n",
    "    accelerator.wait_for_everyone()\n",
    "    torch.cuda.empty_cache()\n",
    "\n",
    "\n",
    "merged_model = model.module.merge_and_unload()\n",
    "processor.save_pretrained(training_args.output_dir)\n",
    "unwrapped_model = accelerator.unwrap_model(merged_model)\n",
    "unwrapped_model.save_pretrained(training_args.output_dir)\n",
    "\n",
    "accelerator.end_training()\n",
    "accelerator.save_state(os.path.join(\"model/TrOCRModel/saves_states\", \"checkpoint\"))\n",
    "\n",
    "if accelerator.is_main_process:\n",
    "    writer.close()"
   ]
  },
  {
   "cell_type": "code",
   "execution_count": null,
   "metadata": {
    "trusted": true
   },
   "outputs": [],
   "source": [
    "# Upload your last model and logs to Google Drive\n",
    "main_model()\n",
    "main_logs()"
   ]
  },
  {
   "cell_type": "markdown",
   "metadata": {},
   "source": [
    "# 3 Test"
   ]
  },
  {
   "cell_type": "code",
   "execution_count": null,
   "metadata": {
    "trusted": true
   },
   "outputs": [],
   "source": [
    "from transformers import TrOCRProcessor, VisionEncoderDecoderModel\n",
    "\n",
    "\n",
    "model_name = \"/kaggle/input/dialectic-stackmix-2.0-dora-1.3/other/default/1\"\n",
    "processor = TrOCRProcessor.from_pretrained(model_name)\n",
    "model = VisionEncoderDecoderModel.from_pretrained(model_name)\n",
    "\n",
    "model.to(device)"
   ]
  },
  {
   "cell_type": "code",
   "execution_count": null,
   "metadata": {
    "trusted": true
   },
   "outputs": [],
   "source": [
    "results = evaluate_model(model, val_dataloader, device)\n",
    "for k, v in results.items():\n",
    "    print(f\"{k}: {v}\")"
   ]
  },
  {
   "cell_type": "code",
   "execution_count": null,
   "metadata": {
    "trusted": true
   },
   "outputs": [],
   "source": [
    "from PIL import Image\n",
    "import matplotlib.pyplot as plt\n",
    "import os\n",
    "\n",
    "\n",
    "path = \"/kaggle/input/dialectic-real-all/images\"\n",
    "for file in os.listdir(path)[:5]:\n",
    "    file_path = os.path.join(path, file)\n",
    "    if not os.path.isfile(file_path):\n",
    "        continue\n",
    "\n",
    "    image = Image.open(file_path).convert(\"RGB\")\n",
    "    pixel_values = processor(images=image, return_tensors=\"pt\").pixel_values.to(device)\n",
    "\n",
    "    generated_ids = model.generate(pixel_values)\n",
    "    generated_text = processor.batch_decode(generated_ids, skip_special_tokens=True)[0]\n",
    "    print(generated_text)\n",
    "\n",
    "    plt.imshow(image)\n",
    "    plt.show()"
   ]
  }
 ],
 "metadata": {
  "kaggle": {
   "accelerator": "nvidiaTeslaT4",
   "dataSources": [
    {
     "datasetId": 7212717,
     "sourceId": 11504082,
     "sourceType": "datasetVersion"
    },
    {
     "datasetId": 6783285,
     "sourceId": 12027232,
     "sourceType": "datasetVersion"
    },
    {
     "datasetId": 1502872,
     "sourceId": 3977616,
     "sourceType": "datasetVersion"
    },
    {
     "modelId": 255833,
     "modelInstanceId": 234131,
     "sourceId": 281611,
     "sourceType": "modelInstanceVersion"
    },
    {
     "isSourceIdPinned": true,
     "modelId": 281721,
     "modelInstanceId": 260566,
     "sourceId": 305402,
     "sourceType": "modelInstanceVersion"
    },
    {
     "modelId": 284907,
     "modelInstanceId": 263810,
     "sourceId": 311060,
     "sourceType": "modelInstanceVersion"
    },
    {
     "modelId": 363058,
     "modelInstanceId": 341740,
     "sourceId": 419184,
     "sourceType": "modelInstanceVersion"
    }
   ],
   "dockerImageVersionId": 30823,
   "isGpuEnabled": true,
   "isInternetEnabled": true,
   "language": "python",
   "sourceType": "notebook"
  },
  "kernelspec": {
   "display_name": "Python 3",
   "language": "python",
   "name": "python3"
  },
  "language_info": {
   "codemirror_mode": {
    "name": "ipython",
    "version": 3
   },
   "file_extension": ".py",
   "mimetype": "text/x-python",
   "name": "python",
   "nbconvert_exporter": "python",
   "pygments_lexer": "ipython3",
   "version": "3.10.12"
  }
 },
 "nbformat": 4,
 "nbformat_minor": 4
}
